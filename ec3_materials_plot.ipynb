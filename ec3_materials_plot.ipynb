{
 "cells": [
  {
   "attachments": {},
   "cell_type": "markdown",
   "metadata": {},
   "source": [
    "# Example: Query and Plot Materials"
   ]
  },
  {
   "attachments": {},
   "cell_type": "markdown",
   "metadata": {},
   "source": [
    "### Imports and Token Assignment"
   ]
  },
  {
   "cell_type": "code",
   "execution_count": 1,
   "metadata": {},
   "outputs": [],
   "source": [
    "import os\n",
    "import pandas as pd\n",
    "import seaborn as sns\n",
    "from pprint import pprint\n",
    "\n",
    "token = os.environ['EC3_KEY']"
   ]
  },
  {
   "attachments": {},
   "cell_type": "markdown",
   "metadata": {},
   "source": [
    "### Import EC3Materials and Setup Query"
   ]
  },
  {
   "cell_type": "code",
   "execution_count": 2,
   "metadata": {},
   "outputs": [],
   "source": [
    "from ec3 import EC3Materials\n",
    "ec3_materials = EC3Materials(bearer_token=token, ssl_verify=False)"
   ]
  },
  {
   "cell_type": "code",
   "execution_count": 3,
   "metadata": {},
   "outputs": [],
   "source": [
    "#Conduct a search of normal weights concrete mixes between 2000 psi and 9000 psi from plants in NY state\n",
    "mat_param_dict = {\"lightweight\":False, \"concrete_compressive_strength_at_28d__gt\":\"2000 psi\", \"concrete_compressive_strength_at_28d__lt\":\"9000 psi\", \"jurisdiction\": \"US-NY\"}\n",
    "\n",
    "ec3_materials.return_fields = [\"id\", \"concrete_compressive_strength_28d\", \"gwp\"]\n",
    "ec3_materials.sort_by = \"concrete_compressive_strength_28d\" #This will sort the responses based on the field assiged to the 'sort_by' property\n",
    "ec3_materials.page_size = 250 #default max records is 100\n",
    "ec3_materials.only_valid = True\n",
    "\n",
    "#NOTE The following query may take a couple minutes to return all responses\n",
    "mat_records = ec3_materials.get_materials(return_all=True, params=mat_param_dict)"
   ]
  },
  {
   "attachments": {},
   "cell_type": "markdown",
   "metadata": {},
   "source": [
    "### Clean the Data"
   ]
  },
  {
   "cell_type": "code",
   "execution_count": 4,
   "metadata": {},
   "outputs": [],
   "source": [
    "#The following code will convert all the compressive strengths to the same units and round to the nearest 500 psi\n",
    "\n",
    "mpa_to_psi = 145.03773773 #conversion for megapascal\n",
    "\n",
    "converted_records = []\n",
    "for rec in mat_records:\n",
    "    new_dict = {}\n",
    "    split_strength = rec[\"concrete_compressive_strength_28d\"].split()\n",
    "    if split_strength[1] == \"MPa\":\n",
    "        conc_strength = float(split_strength[0]) * mpa_to_psi\n",
    "    elif split_strength[1] == \"psi\":\n",
    "        conc_strength = float(split_strength[0])\n",
    "    elif split_strength[1] == \"ksi\":\n",
    "        conc_strength = float(split_strength[0]) * 1000\n",
    "    else:\n",
    "        continue #unknown unit\n",
    "\n",
    "    rounded_strength = int(round(conc_strength/ 500.0) * 500.0)\n",
    "\n",
    "    new_dict[\"Compressive Strength\"] = rounded_strength\n",
    "    new_dict[\"GWP\"] = float(rec[\"gwp\"].split()[0])\n",
    "    converted_records.append(new_dict)"
   ]
  },
  {
   "attachments": {},
   "cell_type": "markdown",
   "metadata": {},
   "source": [
    "### Create Pandas Dataframe and Plot with Seaborn"
   ]
  },
  {
   "cell_type": "code",
   "execution_count": null,
   "metadata": {},
   "outputs": [],
   "source": [
    "df = pd.DataFrame(converted_records)\n",
    "df.head()"
   ]
  },
  {
   "cell_type": "code",
   "execution_count": null,
   "metadata": {},
   "outputs": [],
   "source": [
    "### Create plot with Seaborn ###\n",
    "sns.set_style(\"whitegrid\") #set style\n",
    "sns.set(rc={\"figure.figsize\":(8, 4)}) #set figure size\n",
    "\n",
    "#Add dots using stripplot\n",
    "bp = sns.stripplot(data=df, x='Compressive Strength', y='GWP', \n",
    "                    color=\"dimgrey\", linewidth = 1, alpha=0.1)\n",
    "\n",
    "#Add boxplot\n",
    "bp = sns.boxplot(data=df, x='Compressive Strength', y='GWP', \n",
    "                linewidth = 2, palette=\"YlGnBu\", showfliers = False)\n",
    "\n",
    "#set axis titles and fonts\n",
    "bp.set_title(\"GWP of Concrete Mixes from Plants in New York State\", fontsize = 16, fontweight='bold')\n",
    "bp.set_xlabel(\"Compressive Strength [psi]\", fontsize = 12, fontweight='bold')\n",
    "bp.set_ylabel(\"GWP [kgCO2e]\", fontsize = 12, fontweight='bold')"
   ]
  }
 ],
 "metadata": {
  "kernelspec": {
   "display_name": "Python 3.9.4 64-bit",
   "language": "python",
   "name": "python3"
  },
  "language_info": {
   "codemirror_mode": {
    "name": "ipython",
    "version": 3
   },
   "file_extension": ".py",
   "mimetype": "text/x-python",
   "name": "python",
   "nbconvert_exporter": "python",
   "pygments_lexer": "ipython3",
   "version": "3.9.4"
  },
  "orig_nbformat": 4,
  "vscode": {
   "interpreter": {
    "hash": "0029b5c7ea1d5b2183db63eb2cefc880324d2f7f73f773954c2dd404df047ab4"
   }
  }
 },
 "nbformat": 4,
 "nbformat_minor": 2
}
