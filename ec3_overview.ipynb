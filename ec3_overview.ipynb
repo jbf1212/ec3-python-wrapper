{
 "cells": [
  {
   "attachments": {},
   "cell_type": "markdown",
   "metadata": {},
   "source": [
    "# Example: Overview of Primary Query Functionality"
   ]
  },
  {
   "attachments": {},
   "cell_type": "markdown",
   "metadata": {},
   "source": [
    "### Imports and Token Assignment"
   ]
  },
  {
   "cell_type": "code",
   "execution_count": null,
   "metadata": {},
   "outputs": [],
   "source": [
    "import os\n",
    "from pprint import pprint\n",
    "\n",
    "token = os.environ['EC3_KEY']"
   ]
  },
  {
   "attachments": {},
   "cell_type": "markdown",
   "metadata": {},
   "source": [
    "### Querying EPDs"
   ]
  },
  {
   "cell_type": "code",
   "execution_count": null,
   "metadata": {},
   "outputs": [],
   "source": [
    "#Getting EPD records example\n",
    "from ec3 import EC3epds\n",
    "ec3_epds = EC3epds(bearer_token=token, ssl_verify=False)\n",
    "\n",
    "epd_param_dict = {\"product_classes\":{\"EC3\":\"Concrete >> ReadyMix\"}, \"concrete_compressive_strength_at_28d__target\":\"3000 psi\", \"lightweight\":True, \"applicable_in\":[\"NAFTA\"]}\n",
    "ec3_epds.max_records = 10 #default max records is 100\n",
    "ec3_epds.only_valid = False #Default is True. You can set this to False if you want to also return expired EPDs\n",
    "epd_records = ec3_epds.get_epds(params=epd_param_dict)\n",
    "\n",
    "pprint(epd_records[0])"
   ]
  },
  {
   "cell_type": "code",
   "execution_count": null,
   "metadata": {},
   "outputs": [],
   "source": [
    "#Get an epd by xpd uuid\n",
    "epd_xpd_uuid = \"ec3ftbxgp9\"\n",
    "\n",
    "epd_record = ec3_epds.get_epd_by_xpduuid(epd_xpd_uuid)\n",
    "pprint(epd_record[0])"
   ]
  },
  {
   "attachments": {},
   "cell_type": "markdown",
   "metadata": {},
   "source": [
    "### Querying Materials"
   ]
  },
  {
   "cell_type": "code",
   "execution_count": null,
   "metadata": {},
   "outputs": [],
   "source": [
    "#Getting material records example\n",
    "from ec3 import EC3Materials\n",
    "ec3_materials = EC3Materials(bearer_token=token, ssl_verify=False)\n",
    "\n",
    "mat_param_dict = {\"lightweight\":True, \"concrete_compressive_strength_at_28d__target\":\"5000 psi\", \"jurisdiction\":\"US\"} #Dictonary of params and values. See EC3 Api documentation for options.\n",
    "\n",
    "ec3_materials.return_fields = [\"id\", \"concrete_compressive_strength_28d\", \"gwp\"] #This can be used to limit the fields beings returned\n",
    "ec3_materials.sort_by = \"concrete_compressive_strength_28d\" #This will sort the responses based on the field assiged to the 'sort_by' property\n",
    "\n",
    "mat_records = ec3_materials.get_materials(return_all=True, params=mat_param_dict) #Setting return_all to True will ignore the max_records number and attempt to return all matches\n",
    "\n",
    "pprint(mat_records[0])"
   ]
  },
  {
   "cell_type": "code",
   "execution_count": null,
   "metadata": {},
   "outputs": [],
   "source": [
    "#Get an material by the xpd uuid of an epd\n",
    "mat_record = ec3_materials.get_material_by_xpduuid(epd_xpd_uuid)\n",
    "pprint(mat_record[0])"
   ]
  }
 ],
 "metadata": {
  "kernelspec": {
   "display_name": "Python 3.9.4 64-bit",
   "language": "python",
   "name": "python3"
  },
  "language_info": {
   "codemirror_mode": {
    "name": "ipython",
    "version": 3
   },
   "file_extension": ".py",
   "mimetype": "text/x-python",
   "name": "python",
   "nbconvert_exporter": "python",
   "pygments_lexer": "ipython3",
   "version": "3.9.4 (tags/v3.9.4:1f2e308, Apr  6 2021, 13:40:21) [MSC v.1928 64 bit (AMD64)]"
  },
  "orig_nbformat": 4,
  "vscode": {
   "interpreter": {
    "hash": "0029b5c7ea1d5b2183db63eb2cefc880324d2f7f73f773954c2dd404df047ab4"
   }
  }
 },
 "nbformat": 4,
 "nbformat_minor": 2
}
