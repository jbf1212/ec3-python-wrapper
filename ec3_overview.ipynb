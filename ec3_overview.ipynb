{
 "cells": [
  {
   "attachments": {},
   "cell_type": "markdown",
   "metadata": {},
   "source": [
    "# Example: Overview of Primary Query Functionality"
   ]
  },
  {
   "attachments": {},
   "cell_type": "markdown",
   "metadata": {},
   "source": [
    "### Imports and Token Assignment"
   ]
  },
  {
   "cell_type": "code",
   "execution_count": 1,
   "metadata": {},
   "outputs": [],
   "source": [
    "import os\n",
    "from pprint import pprint\n",
    "\n",
    "token = os.environ['EC3_KEY']"
   ]
  },
  {
   "attachments": {},
   "cell_type": "markdown",
   "metadata": {},
   "source": [
    "### Querying EPDs"
   ]
  },
  {
   "cell_type": "code",
   "execution_count": null,
   "metadata": {},
   "outputs": [],
   "source": [
    "#Getting EPD records example\n",
    "from ec3 import EC3epds\n",
    "ec3_epds = EC3epds(bearer_token=token, ssl_verify=False)\n",
    "\n",
    "epd_param_dict = {\n",
    "                \"product_classes\":{\"EC3\":\"Concrete >> ReadyMix\"}, \n",
    "                \"concrete_compressive_strength_28d\":\"3000 psi\", \n",
    "                \"lightweight\":True, \n",
    "                \"applicable_in\":[\"NAFTA\"]\n",
    "                }\n",
    "\n",
    "ec3_epds.max_records = 10 #default max records is 100\n",
    "ec3_epds.only_valid = False #Default is True. You can set this to False if you want to also return expired EPDs\n",
    "epd_records = ec3_epds.get_epds(params=epd_param_dict)\n",
    "\n",
    "pprint(epd_records[0])"
   ]
  },
  {
   "cell_type": "code",
   "execution_count": null,
   "metadata": {},
   "outputs": [],
   "source": [
    "#Get EPDs while using masterformat filter (A similar approach using the 'masterformat_filter' property will work with the EC3Materials class)\n",
    "#(In this example we return all rebar EPDs)\n",
    "from ec3 import EC3epds\n",
    "ec3_epds2 = EC3epds(bearer_token=token, ssl_verify=False)\n",
    "ec3_epds2.only_valid = True\n",
    "ec3_epds2.masterformat_filter = [\"03 21 00 Reinforcement Bars\"]\n",
    "epd_param_dict2 = {}\n",
    "\n",
    "epd_records2 = ec3_epds2.get_epds(params=epd_param_dict2)\n",
    "\n",
    "pprint(epd_records2[0])"
   ]
  },
  {
   "cell_type": "code",
   "execution_count": null,
   "metadata": {},
   "outputs": [],
   "source": [
    "#Get an epd by xpd uuid\n",
    "epd_xpd_uuid = \"ec3ftbxgp9\"\n",
    "\n",
    "epd_record = ec3_epds.get_epd_by_xpduuid(epd_xpd_uuid)\n",
    "pprint(epd_record)"
   ]
  },
  {
   "attachments": {},
   "cell_type": "markdown",
   "metadata": {},
   "source": [
    "### Querying Materials"
   ]
  },
  {
   "cell_type": "code",
   "execution_count": null,
   "metadata": {},
   "outputs": [],
   "source": [
    "#Getting material records example\n",
    "from ec3 import EC3Materials\n",
    "ec3_materials = EC3Materials(bearer_token=token, ssl_verify=False)\n",
    "\n",
    "#Dictonary of params and values. See EC3 Api documentation for options.\n",
    "mat_param_dict = {\"lightweight\":False, \"concrete_compressive_strength_at_28d__target\":\"3000 psi\", \"jurisdiction\":\"US-NY\"}\n",
    "\n",
    "ec3_materials.return_fields = [\"id\", \"concrete_compressive_strength_28d\", \"gwp\"] #This can be used to limit the fields beings returned\n",
    "ec3_materials.sort_by = \"concrete_compressive_strength_28d\" #This will sort the responses based on the field assiged to the 'sort_by' property\n",
    "\n",
    "#NOTE The following query may take a few minutes to return all responses depending on parameters passed\n",
    "#Setting return_all to True will ignore the max_records number and attempt to return all matches\n",
    "mat_records = ec3_materials.get_materials(return_all=True, params=mat_param_dict)\n",
    "\n",
    "pprint(mat_records[0])"
   ]
  },
  {
   "cell_type": "code",
   "execution_count": null,
   "metadata": {},
   "outputs": [],
   "source": [
    "#Get materials within a given distance of a postal code\n",
    "#Conduct a search of normal weights concrete mixes between 2000 psi and 8000 psi within a radius of a given postal code\n",
    "mat_param_dict =   {\n",
    "                    \"product_classes\":{\"EC3\":\"Concrete >> ReadyMix\"},\n",
    "                    \"lightweight\":False, \n",
    "                    \"concrete_compressive_strength_at_28d__gt\":\"2000 psi\", \n",
    "                    \"concrete_compressive_strength_at_28d__lt\":\"8000 psi\", \n",
    "                    }\n",
    "\n",
    "ec3_materials.return_fields = [\"id\", \"concrete_compressive_strength_28d\", \"gwp\", \"plant_or_group\"]\n",
    "ec3_materials.sort_by = \"concrete_compressive_strength_28d\" #This will sort the responses based on the field assiged to the 'sort_by' property\n",
    "ec3_materials.only_valid = True\n",
    "ec3_materials.max_records = 50\n",
    "postal_code = 11232\n",
    "\n",
    "mat_records = ec3_materials.get_materials_within_region(postal_code, plant_distance=\"10 mi\", return_all=False, params=mat_param_dict)\n",
    "pprint(mat_records[0])"
   ]
  },
  {
   "attachments": {},
   "cell_type": "markdown",
   "metadata": {},
   "source": [
    "### Retrieving Projects"
   ]
  },
  {
   "cell_type": "code",
   "execution_count": null,
   "metadata": {},
   "outputs": [],
   "source": [
    "#Retrieve a project examples. \n",
    "#You will need projects setup in your EC3 account or be looking at publicly available projects for this to work\n",
    "from ec3 import EC3Projects\n",
    "ec3_projects = EC3Projects(bearer_token=token, ssl_verify=False)\n",
    "\n",
    "#Search by name\n",
    "project_name = \"[PROJECT NAME TO SEARCH]\"\n",
    "proj_by_name = ec3_projects.get_projects_by_name(project_name)\n",
    "\n",
    "#Search by project id\n",
    "project_id = \"fd0e951748f44dceb9d51c3c6a298ea2\"\n",
    "proj_by_id = ec3_projects.get_project_by_id(project_id)\n",
    "\n",
    "pprint(proj_by_id[0])"
   ]
  },
  {
   "attachments": {},
   "cell_type": "markdown",
   "metadata": {},
   "source": [
    "### Retrieving Categories"
   ]
  },
  {
   "cell_type": "code",
   "execution_count": null,
   "metadata": {},
   "outputs": [],
   "source": [
    "#Get category by id\n",
    "from ec3 import EC3Categories\n",
    "ec3_categories = EC3Categories(bearer_token=token, ssl_verify=False)\n",
    "\n",
    "cat_by_id = ec3_categories.get_category_by_id('05d49f750eed4648b7f72e3bbfc8b8e4')\n",
    "pprint(cat_by_id)"
   ]
  },
  {
   "cell_type": "code",
   "execution_count": null,
   "metadata": {},
   "outputs": [],
   "source": [
    "#Get root category with the entire tree\n",
    "whole_tree = ec3_categories.get_all_categories()\n",
    "\n",
    "#Once you have the entire tree you can use some of the functions in utils for crawlingthrough the tree\n",
    "#The following function will create a dictionary with masterformat codes as keys and ids as values\n",
    "from ec3 import ec3_utils\n",
    "test_dict = ec3_utils.get_masterformat_category_dict(whole_tree)\n",
    "pprint(test_dict)"
   ]
  }
 ],
 "metadata": {
  "kernelspec": {
   "display_name": "ec3_wrapper",
   "language": "python",
   "name": "python3"
  },
  "language_info": {
   "codemirror_mode": {
    "name": "ipython",
    "version": 3
   },
   "file_extension": ".py",
   "mimetype": "text/x-python",
   "name": "python",
   "nbconvert_exporter": "python",
   "pygments_lexer": "ipython3",
   "version": "3.10.10"
  },
  "orig_nbformat": 4,
  "vscode": {
   "interpreter": {
    "hash": "fdbf00880556660fdc4fac131905148da79afaec9153c0f17986ad660a5222a4"
   }
  }
 },
 "nbformat": 4,
 "nbformat_minor": 2
}
